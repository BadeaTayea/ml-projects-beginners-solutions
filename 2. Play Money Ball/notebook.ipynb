{
 "cells": [
  {
   "cell_type": "markdown",
   "metadata": {},
   "source": [
    "# 2. Play Money Ball - Data Analyctics in Sports\n",
    "\n",
    "Inspired by the book (and movie) \"Monyball\" I will try going to predict sport events based on data analytics. In the book the Oakland A's revolutionized baseball through analytical player scouting, but I find it much more interesting to predict final results of games. So that is what I will do here."
   ]
  },
  {
   "cell_type": "markdown",
   "metadata": {},
   "source": [
    "## Data sources for sports\n",
    "\n",
    "There are plenty of data sources for data analytics in sports:\n",
    "- [RotoWire.com](https://www.rotowire.com/)\n",
    "- [Sports-Reference.com](https://www.sports-reference.com/)\n",
    "- [CricsSheet.org](https://cricsheet.org/downloads/)\n",
    "- [Football-Data.co.uk](http://football-data.co.uk/data.php)\n",
    "- [Kaggle.com](https://www.kaggle.com/datasets?sortBy=relevance&group=public&search=sport&page=1&pageSize=20&size=all&filetype=all&license=all)"
   ]
  }
 ],
 "metadata": {
  "kernelspec": {
   "display_name": "Python 3",
   "language": "python",
   "name": "python3"
  },
  "language_info": {
   "codemirror_mode": {
    "name": "ipython",
    "version": 3
   },
   "file_extension": ".py",
   "mimetype": "text/x-python",
   "name": "python",
   "nbconvert_exporter": "python",
   "pygments_lexer": "ipython3",
   "version": "3.6.1"
  }
 },
 "nbformat": 4,
 "nbformat_minor": 2
}
