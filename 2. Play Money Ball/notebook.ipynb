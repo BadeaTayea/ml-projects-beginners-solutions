{
 "cells": [
  {
   "cell_type": "markdown",
   "metadata": {},
   "source": [
    "# 2. Play Money Ball - Data Analyctics in Sports\n",
    "\n",
    "Inspired by the book (and movie) \"Monyball\" I will try going to predict sport events based on data analytics. In the book the Oakland A's revolutionized baseball through analytical player scouting, but I find it much more interesting to predict final results of games. So that is what I will do here."
   ]
  },
  {
   "cell_type": "markdown",
   "metadata": {},
   "source": [
    "## Data sources for sports\n",
    "\n",
    "There are plenty of data sources for data analytics in sports:\n",
    "- [RotoWire.com](https://www.rotowire.com/)\n",
    "- [Sports-Reference.com](https://www.sports-reference.com/)\n",
    "- [CricsSheet.org](https://cricsheet.org/downloads/)\n",
    "- [Football-Data.co.uk](http://football-data.co.uk/data.php)\n",
    "- [Kaggle.com](https://www.kaggle.com/datasets?sortBy=relevance&group=public&search=sport&page=1&pageSize=20&size=all&filetype=all&license=all)"
   ]
  },
  {
   "cell_type": "markdown",
   "metadata": {},
   "source": [
    "I have downloaded the .csv files and put them in one directory. Now I can easily import all of them. There were some formating errors in the .csv files, so I fixed them. Afterthat I could import all .csv files with success."
   ]
  },
  {
   "cell_type": "code",
   "execution_count": 63,
   "metadata": {},
   "outputs": [],
   "source": [
    "import pandas as pd\n",
    "import numpy as np"
   ]
  },
  {
   "cell_type": "code",
   "execution_count": 64,
   "metadata": {},
   "outputs": [],
   "source": [
    "def test_read_all_csv():\n",
    "    divisions = [\"D1\", \"D2\"]\n",
    "    for division in divisions:\n",
    "        for year in range(1993, 2017):\n",
    "            path = \"data/\" + division + \"_\" + str(year) + \"_\" + str(year+1) + \".csv\"\n",
    "            try:\n",
    "                print(path)\n",
    "                test = pd.read_csv(path, keep_default_na=False)\n",
    "                print('success')\n",
    "            except:\n",
    "                print(path + \" not successful\")\n",
    "    "
   ]
  },
  {
   "cell_type": "code",
   "execution_count": 65,
   "metadata": {},
   "outputs": [
    {
     "name": "stdout",
     "output_type": "stream",
     "text": [
      "data/D1_1993_1994.csv\n",
      "success\n",
      "data/D1_1994_1995.csv\n",
      "success\n",
      "data/D1_1995_1996.csv\n",
      "success\n",
      "data/D1_1996_1997.csv\n",
      "success\n",
      "data/D1_1997_1998.csv\n",
      "success\n",
      "data/D1_1998_1999.csv\n",
      "success\n",
      "data/D1_1999_2000.csv\n",
      "success\n",
      "data/D1_2000_2001.csv\n",
      "success\n",
      "data/D1_2001_2002.csv\n",
      "success\n",
      "data/D1_2002_2003.csv\n",
      "success\n",
      "data/D1_2003_2004.csv\n",
      "success\n",
      "data/D1_2004_2005.csv\n",
      "success\n",
      "data/D1_2005_2006.csv\n",
      "success\n",
      "data/D1_2006_2007.csv\n",
      "success\n",
      "data/D1_2007_2008.csv\n",
      "success\n",
      "data/D1_2008_2009.csv\n",
      "success\n",
      "data/D1_2009_2010.csv\n",
      "success\n",
      "data/D1_2010_2011.csv\n",
      "success\n",
      "data/D1_2011_2012.csv\n",
      "success\n",
      "data/D1_2012_2013.csv\n",
      "success\n",
      "data/D1_2013_2014.csv\n",
      "success\n",
      "data/D1_2014_2015.csv\n",
      "success\n",
      "data/D1_2015_2016.csv\n",
      "success\n",
      "data/D1_2016_2017.csv\n",
      "success\n",
      "data/D2_1993_1994.csv\n",
      "success\n",
      "data/D2_1994_1995.csv\n",
      "success\n",
      "data/D2_1995_1996.csv\n",
      "success\n",
      "data/D2_1996_1997.csv\n",
      "success\n",
      "data/D2_1997_1998.csv\n",
      "success\n",
      "data/D2_1998_1999.csv\n",
      "success\n",
      "data/D2_1999_2000.csv\n",
      "success\n",
      "data/D2_2000_2001.csv\n",
      "success\n",
      "data/D2_2001_2002.csv\n",
      "success\n",
      "data/D2_2002_2003.csv\n",
      "success\n",
      "data/D2_2003_2004.csv\n",
      "success\n",
      "data/D2_2004_2005.csv\n",
      "success\n",
      "data/D2_2005_2006.csv\n",
      "success\n",
      "data/D2_2006_2007.csv\n",
      "success\n",
      "data/D2_2007_2008.csv\n",
      "success\n",
      "data/D2_2008_2009.csv\n",
      "success\n",
      "data/D2_2009_2010.csv\n",
      "success\n",
      "data/D2_2010_2011.csv\n",
      "success\n",
      "data/D2_2011_2012.csv\n",
      "success\n",
      "data/D2_2012_2013.csv\n",
      "success\n",
      "data/D2_2013_2014.csv\n",
      "success\n",
      "data/D2_2014_2015.csv\n",
      "success\n",
      "data/D2_2015_2016.csv\n",
      "success\n",
      "data/D2_2016_2017.csv\n",
      "success\n"
     ]
    }
   ],
   "source": [
    "test_read_all_csv()"
   ]
  },
  {
   "cell_type": "code",
   "execution_count": null,
   "metadata": {},
   "outputs": [],
   "source": []
  }
 ],
 "metadata": {
  "kernelspec": {
   "display_name": "Python 3",
   "language": "python",
   "name": "python3"
  },
  "language_info": {
   "codemirror_mode": {
    "name": "ipython",
    "version": 3
   },
   "file_extension": ".py",
   "mimetype": "text/x-python",
   "name": "python",
   "nbconvert_exporter": "python",
   "pygments_lexer": "ipython3",
   "version": "3.6.4"
  }
 },
 "nbformat": 4,
 "nbformat_minor": 2
}
